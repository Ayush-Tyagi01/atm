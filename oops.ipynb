{
  "cells": [
    {
      "cell_type": "markdown",
      "metadata": {
        "id": "view-in-github",
        "colab_type": "text"
      },
      "source": [
        "<a href=\"https://colab.research.google.com/github/Ayush-Tyagi01/atm/blob/main/oops.ipynb\" target=\"_parent\"><img src=\"https://colab.research.google.com/assets/colab-badge.svg\" alt=\"Open In Colab\"/></a>"
      ]
    },
    {
      "cell_type": "code",
      "execution_count": null,
      "metadata": {
        "id": "BotEqGYKIO_6"
      },
      "outputs": [],
      "source": []
    },
    {
      "cell_type": "code",
      "execution_count": null,
      "metadata": {
        "id": "fXosP0xqXaHk"
      },
      "outputs": [],
      "source": []
    },
    {
      "cell_type": "code",
      "execution_count": null,
      "metadata": {
        "id": "Piq-d5PaXibR"
      },
      "outputs": [],
      "source": [
        "# atm\n",
        "\n",
        "class Atm:\n",
        "  def __init__(self):\n",
        "    self.pin=\"\"\n",
        "    self.balance=0\n",
        "    self.menu()\n",
        "\n",
        "  def menu(self):\n",
        "    user_input=input(\"\"\"hello! how can i help you\n",
        "    1.press 1 to create pin\n",
        "    2.press 2 to change pin\n",
        "    3.press 3 to check balance\n",
        "    4.press 4 to withdraw\n",
        "    5. anything else to exit\n",
        "    \"\"\")\n",
        "\n",
        "    if user_input=='1':\n",
        "      # create pin\n",
        "      self.create_pin()\n",
        "\n",
        "    elif user_input=='2':\n",
        "      # change pin\n",
        "      self.change_pin()\n",
        "\n",
        "    elif user_input=='3':\n",
        "      # check balance\n",
        "      self.check_balance()\n",
        "\n",
        "    elif user_input=='4':\n",
        "      # withdraw\n",
        "      self.withdraw()\n",
        "\n",
        "    else:\n",
        "      # exit\n",
        "      pass\n",
        "\n",
        "\n",
        "  def create_pin(self):\n",
        "    user_pin=int(input(\"enter ur pin\"))\n",
        "    self.pin=user_pin\n",
        "    user_balance=int(input(\"enter balance\"))\n",
        "    self.balance=user_balance\n",
        "    print(\"pin created successfully\")\n",
        "    self.menu()\n",
        "\n",
        "\n",
        "  def change_pin (self):\n",
        "    old_pin=int(input(\"enter the old pin\"))\n",
        "    if old_pin==self.pin:\n",
        "      new_pin=int(input(\"enter new pin\"))\n",
        "      old_pin=new_pin\n",
        "      print(\"pin changed successfully\")\n",
        "      self.menu()\n",
        "\n",
        "    else:\n",
        "      print(\"enter the correct pin\")\n",
        "      self.menu()\n",
        "\n",
        "\n",
        "  def check_balance(self):\n",
        "    user_pin=int(input(\"enter the pin\"))\n",
        "    if user_pin==self.pin:\n",
        "      print(f\"your balance is {self.balance}\")\n",
        "      self.menu()\n",
        "\n",
        "\n",
        "    else:\n",
        "      print(\"enter the correct pin\")\n",
        "      self.menu()\n",
        "\n",
        "  def withdraw(self):\n",
        "    user_pin=int(input(\"enter the pin\"))\n",
        "    if user_pin==self.pin:\n",
        "      withdraw_amount=int(input(\"enter the amount to withdraw\"))\n",
        "      if self.balance>=withdraw_amount:\n",
        "        self.balance=self.balance-withdraw_amount\n",
        "        print(\"amount withdrawed successfully\")\n",
        "        self.menu()\n",
        "      else:\n",
        "        print(\"not enough balance\")\n",
        "        self.menu()\n",
        "\n",
        "    else:\n",
        "      print(\"enter the corrected pin\")\n",
        "      self.menu()"
      ]
    },
    {
      "cell_type": "code",
      "execution_count": null,
      "metadata": {
        "colab": {
          "base_uri": "https://localhost:8080/"
        },
        "id": "tRz_WKNCYtIQ",
        "outputId": "370c2419-b4d3-423a-c0ae-7a51206db73f"
      },
      "outputs": [
        {
          "name": "stdout",
          "output_type": "stream",
          "text": [
            "hello! how can i help you \n",
            "    1.press 1 to create pin\n",
            "    2.press 2 to change pin\n",
            "    3.press 3 to check balance\n",
            "    4.press 4 to withdraw\n",
            "    5. anything else to exit\n",
            "    6\n"
          ]
        }
      ],
      "source": [
        "obj=Atm()"
      ]
    },
    {
      "cell_type": "code",
      "execution_count": null,
      "metadata": {
        "id": "fd1W2mwW1MjB"
      },
      "outputs": [],
      "source": [
        "# creating the datatype\n",
        "class Fraction:\n",
        "  def __init__(self,x,y):\n",
        "    self.num=x\n",
        "    self.den=y\n",
        "  def __str__(self):\n",
        "    return f\"{self.num}/{self.den}\"\n",
        "  def __add__(self,other):\n",
        "    new_num=self.num*other.den+other.num*self.den\n",
        "    new_den=self.den*other.den\n",
        "    return (f\"{new_num}/{new_den}\")\n",
        "  def __sub__(self,other):\n",
        "    new_num=self.num*other.den-other.num*self.den\n",
        "    new_den=self.den*other.den\n",
        "    return(f\"{new_num}/{new_den}\")\n",
        "  def __mul__(self,other):\n",
        "    new_num=self.num*other.num\n",
        "    new_den=self.den*other.den\n",
        "    return(f\"{new_num}/{new_den}\")\n",
        "  def __truediv__(self,other):\n",
        "    new_num=self.num*other.den\n",
        "    new_den=self.den*other.num\n",
        "    return(f\"{new_num}/{new_den}\")\n",
        "\n"
      ]
    },
    {
      "cell_type": "markdown",
      "metadata": {
        "id": "j4PQ_4-hm8dd"
      },
      "source": []
    },
    {
      "cell_type": "code",
      "execution_count": null,
      "metadata": {
        "colab": {
          "base_uri": "https://localhost:8080/"
        },
        "id": "l1InVFQmhvvY",
        "outputId": "ab18b1ea-5c81-457e-e6af-e3d791e698f6"
      },
      "outputs": [
        {
          "name": "stdout",
          "output_type": "stream",
          "text": [
            "20/16\n"
          ]
        }
      ],
      "source": [
        "f1=Fraction(3,4)\n",
        "f2=Fraction(2,4)\n",
        "print(f1+f2)\n"
      ]
    },
    {
      "cell_type": "code",
      "execution_count": null,
      "metadata": {
        "colab": {
          "base_uri": "https://localhost:8080/"
        },
        "id": "jEi9dZ2utyyz",
        "outputId": "946960a2-d1a4-42c3-d82b-9b0154145e1f"
      },
      "outputs": [
        {
          "name": "stdout",
          "output_type": "stream",
          "text": [
            "4/16\n"
          ]
        }
      ],
      "source": [
        "print(f1-f2)"
      ]
    },
    {
      "cell_type": "code",
      "execution_count": null,
      "metadata": {
        "colab": {
          "base_uri": "https://localhost:8080/"
        },
        "id": "jcm56OVju9c4",
        "outputId": "a3dabeb3-3665-4770-ae3f-a56a96d6db0f"
      },
      "outputs": [
        {
          "name": "stdout",
          "output_type": "stream",
          "text": [
            "6/16\n"
          ]
        }
      ],
      "source": [
        "print(f1 *f2)"
      ]
    },
    {
      "cell_type": "code",
      "execution_count": null,
      "metadata": {
        "colab": {
          "base_uri": "https://localhost:8080/"
        },
        "id": "rnZkFe1QyaTP",
        "outputId": "c8524eb1-7c90-4e22-8da8-077f581e7be3"
      },
      "outputs": [
        {
          "name": "stdout",
          "output_type": "stream",
          "text": [
            "12/8\n"
          ]
        }
      ],
      "source": [
        "print(f1/f2)"
      ]
    },
    {
      "cell_type": "code",
      "execution_count": null,
      "metadata": {
        "colab": {
          "base_uri": "https://localhost:8080/"
        },
        "id": "BlmiZZru0btO",
        "outputId": "ce496689-081e-46a2-aa1c-b51284b4d362"
      },
      "outputs": [
        {
          "data": {
            "text/plain": [
              "0.75"
            ]
          },
          "execution_count": 34,
          "metadata": {},
          "output_type": "execute_result"
        }
      ],
      "source": [
        "f1.convert_to_decimal()"
      ]
    },
    {
      "cell_type": "code",
      "execution_count": null,
      "metadata": {
        "colab": {
          "base_uri": "https://localhost:8080/"
        },
        "id": "Rl1g2fRm4kSv",
        "outputId": "1b6330d2-798c-4aae-c338-bb89a20539a8"
      },
      "outputs": [
        {
          "name": "stdout",
          "output_type": "stream",
          "text": [
            "3x+4y+5=0\n"
          ]
        }
      ],
      "source": [
        "class line:\n",
        "  def __init__(self,a,b,c):\n",
        "    self.a=a\n",
        "    self.b=b\n",
        "    self.c=c\n",
        "  def __str__(self):\n",
        "    return f\"{self.a}x+{self.b}y+{self.c}=0\"\n",
        "obj=line(3,4,5)\n",
        "print(obj)\n"
      ]
    },
    {
      "cell_type": "code",
      "execution_count": null,
      "metadata": {
        "colab": {
          "base_uri": "https://localhost:8080/"
        },
        "id": "6KmPNM-M5fj-",
        "outputId": "7ffa7cf0-a5d6-410a-e18f-038383991616"
      },
      "outputs": [
        {
          "name": "stdout",
          "output_type": "stream",
          "text": [
            "my name is ayush and my age is 19\n"
          ]
        }
      ],
      "source": [
        "# how objects access attributes\n",
        "class Person:\n",
        "  def __init__(self,name,age):\n",
        "    self.name=name\n",
        "    self.age=age\n",
        "  def output(self):\n",
        "    print(f\"my name is {self.name} and my age is {self.age}\")\n",
        "p1=Person(\"ayush\",19)\n",
        "p1.output()\n",
        "\n",
        "\n",
        "\n",
        "\n"
      ]
    },
    {
      "cell_type": "code",
      "execution_count": null,
      "metadata": {
        "colab": {
          "base_uri": "https://localhost:8080/",
          "height": 35
        },
        "id": "c0J8r1l8x5Ua",
        "outputId": "a13c5cb3-696e-496d-cef0-0f05c821683c"
      },
      "outputs": [
        {
          "data": {
            "application/vnd.google.colaboratory.intrinsic+json": {
              "type": "string"
            },
            "text/plain": [
              "'male'"
            ]
          },
          "execution_count": 20,
          "metadata": {},
          "output_type": "execute_result"
        }
      ],
      "source": [
        "p1.gender=\"male\"\n",
        "p1.gender\n",
        "### here we learned that we can also define the attributes of the class outside the class"
      ]
    },
    {
      "cell_type": "code",
      "execution_count": null,
      "metadata": {
        "colab": {
          "base_uri": "https://localhost:8080/"
        },
        "id": "hmgPSvitzXxc",
        "outputId": "c5c8cf74-a989-42ca-b535-9b2ec3c722cd"
      },
      "outputs": [
        {
          "name": "stdout",
          "output_type": "stream",
          "text": [
            "my name is ayush and my age is 19\n",
            "131950215687760\n",
            "131950215687760\n"
          ]
        }
      ],
      "source": [
        "# reference variable\n",
        "class Person:\n",
        "  def __init__(self,name,age):\n",
        "    self.name=name\n",
        "    self.age=age\n",
        "  def output(self):\n",
        "    print(f\"my name is {self.name} and my age is {self.age}\")\n",
        "p1=Person(\"ayush\",19)\n",
        "p1.output()\n",
        "\n",
        "\n",
        "#here p1 is not the object when person() is being called the object is created, p1 is\n",
        "#just a variable that stores the memory address of the object and hence called the reference\n",
        "#variable....\n",
        "p2=p1\n",
        "print(id(p1))\n",
        "print(id(p2))\n",
        "\n",
        "\n"
      ]
    },
    {
      "cell_type": "code",
      "execution_count": null,
      "metadata": {
        "colab": {
          "base_uri": "https://localhost:8080/"
        },
        "id": "TpM1tu-O_PfR",
        "outputId": "4bb45a7a-dd6d-4b11-db06-4a750f716951"
      },
      "outputs": [
        {
          "name": "stdout",
          "output_type": "stream",
          "text": [
            "goli\n",
            "goli\n",
            "goli\n",
            "goli\n"
          ]
        }
      ],
      "source": [
        "print(p1.name)\n",
        "print(p2.name)\n",
        "p2.name=\"goli\"\n",
        "print(p2.name)\n",
        "print(p1.name)"
      ]
    },
    {
      "cell_type": "code",
      "execution_count": null,
      "metadata": {
        "colab": {
          "base_uri": "https://localhost:8080/"
        },
        "id": "tMXW22OSA1_4",
        "outputId": "9ff31a60-4b33-4f82-ede1-f33db3fa2899"
      },
      "outputs": [
        {
          "name": "stdout",
          "output_type": "stream",
          "text": [
            "hello my name is ayush and im 19 \n",
            "akshit 17\n"
          ]
        }
      ],
      "source": [
        "#pass by reference\n",
        "class Person:\n",
        "  def __init__(self,name,age):\n",
        "    self.name=name\n",
        "    self.age=age\n",
        "def greet(q):\n",
        "  print(f\"hello my name is {q.name} and im {q.age} \")\n",
        "  obj=Person(\"akshit\",17)\n",
        "  return obj\n",
        "p=Person(\"ayush\",19)\n",
        "x=greet(p)\n",
        "print(x.name,x.age)\n",
        "\n",
        " # here what we have done is we have passed an object as a an argument or input to a function\n",
        " # and a function has return an object"
      ]
    },
    {
      "cell_type": "markdown",
      "metadata": {
        "id": "H4Fv99v-GaM5"
      },
      "source": [
        "instance variable"
      ]
    },
    {
      "cell_type": "code",
      "execution_count": null,
      "metadata": {
        "colab": {
          "base_uri": "https://localhost:8080/"
        },
        "id": "sCQZ-U_-GdhW",
        "outputId": "4c953d76-5634-4698-94e8-5ec610dc28c3"
      },
      "outputs": [
        {
          "name": "stdout",
          "output_type": "stream",
          "text": [
            "my car is Range Rover and its color is Black\n",
            "my car is Thar and its color is White\n"
          ]
        }
      ],
      "source": [
        "# instance variable is variable that belongs to a specific object in a class\n",
        "\n",
        "class car:\n",
        "  def __init__(self,name,color):\n",
        "    self.name=name\n",
        "    self.color=color\n",
        "    print(f\"my car is {self.name} and its color is {self.color}\")\n",
        "o1=car(\"Range Rover\",\"Black\")\n",
        "o2=car(\"Thar\",\"White\")\n",
        "\n",
        "# here self.name and self.color are the instance variable ,for o1 they have seperate values and for o2 they have seperate values"
      ]
    },
    {
      "cell_type": "markdown",
      "metadata": {
        "id": "0xkk1SMHHqB8"
      },
      "source": [
        "encapsulation\n"
      ]
    },
    {
      "cell_type": "code",
      "execution_count": null,
      "metadata": {
        "colab": {
          "base_uri": "https://localhost:8080/"
        },
        "id": "NQ6PlMYoHuaJ",
        "outputId": "ea8ab7df-a7e6-4d32-dfca-07e5c256a18f"
      },
      "outputs": [
        {
          "name": "stdout",
          "output_type": "stream",
          "text": [
            "ayush\n",
            "goli\n"
          ]
        }
      ],
      "source": [
        "class aadmi:\n",
        "  def __init__(self):\n",
        "    self.__name=\"ayush\"\n",
        "  def get(self):\n",
        "    return self.__name\n",
        "  def set(self,new_value):\n",
        "    self.__name=new_value\n",
        "obj=aadmi()\n",
        "ans=obj.get()\n",
        "print(ans)\n",
        "obj.set(\"goli\")\n",
        "print(obj.get())\n",
        "#print(obj._aadmi__name)\n",
        "\n",
        "\n",
        "## little bit theory\n",
        "## protected attribute is defined by double underscore and when protected attribute is created it converts into _class__attribute like\n",
        "# self.__name is converted into _aadmi__name .\n",
        "# you can access the variable by giving  print(obj._aadmi__name) but it violates the encapsution ,so get and set methods are used to display and modify the\n",
        "# attributes ,these methods are not in-built you can also give others name as well\n"
      ]
    },
    {
      "cell_type": "code",
      "execution_count": null,
      "metadata": {
        "id": "uJrOUn_pFwnZ"
      },
      "outputs": [],
      "source": []
    },
    {
      "cell_type": "markdown",
      "metadata": {
        "id": "fM0WCf4pF1Ie"
      },
      "source": [
        "collection of objects"
      ]
    },
    {
      "cell_type": "code",
      "execution_count": null,
      "metadata": {
        "colab": {
          "base_uri": "https://localhost:8080/"
        },
        "id": "ZIASMeZzF4_l",
        "outputId": "38ec14d5-5f6e-4358-f128-c189a173ebe9"
      },
      "outputs": [
        {
          "name": "stdout",
          "output_type": "stream",
          "text": [
            "ayush male\n",
            "goli male\n",
            "gnja male\n"
          ]
        }
      ],
      "source": [
        "class man:\n",
        "  def __init__(self,name,gender):\n",
        "    self.name=name\n",
        "    self.gender=gender\n",
        "o1=man(\"ayush\",\"male\")\n",
        "o2=man(\"goli\",\"male\")\n",
        "o3=man(\"gnja\",\"male\")\n",
        "l=[o1,o2,o3]\n",
        "for i in l:\n",
        "  print(i.name,i.gender)\n",
        "\n",
        "\n",
        "# it means that we can store the objects in list and can perform the operations like the list"
      ]
    },
    {
      "cell_type": "markdown",
      "metadata": {
        "id": "8xEsVgJXQJzQ"
      },
      "source": [
        "static variables\n"
      ]
    },
    {
      "cell_type": "code",
      "execution_count": null,
      "metadata": {
        "colab": {
          "base_uri": "https://localhost:8080/"
        },
        "id": "LL5wbASzQMcP",
        "outputId": "724f94f6-c460-4e2c-b63d-8803adb0c1d3"
      },
      "outputs": [
        {
          "name": "stdout",
          "output_type": "stream",
          "text": [
            "1\n",
            "1\n",
            "1\n"
          ]
        }
      ],
      "source": [
        "# static variable is a variable that belongs to a class rather than any object of the class.\n",
        "# means all objects of class can share the same variable\n",
        "class counter:\n",
        "  def __init__(self):\n",
        "    self.count=1\n",
        "    print(self.count)\n",
        "    self.count=self.count+1\n",
        "obj1=counter()\n",
        "obj2=counter()\n",
        "obj3=counter()\n",
        "\n"
      ]
    },
    {
      "cell_type": "code",
      "execution_count": null,
      "metadata": {
        "colab": {
          "base_uri": "https://localhost:8080/"
        },
        "id": "XM7-KrlLn6bV",
        "outputId": "0fc09153-bfb0-44fa-d78e-0650aaf4a109"
      },
      "outputs": [
        {
          "name": "stdout",
          "output_type": "stream",
          "text": [
            "1\n",
            "2\n",
            "3\n"
          ]
        }
      ],
      "source": [
        "## in the above code whenever a new object is created it will access the count variable individually at each time they have been called.\n",
        "# thats why each time 1 is printed\n",
        "\n",
        "# but when we use a static variable lets see the difference\n",
        "\n",
        "class counter:\n",
        "  count=0\n",
        "  def __init__(self):\n",
        "    counter.count+=1\n",
        "    print(counter.count)\n",
        "o1=counter()\n",
        "o2=counter()\n",
        "o2=counter()\n"
      ]
    },
    {
      "cell_type": "code",
      "execution_count": null,
      "metadata": {
        "colab": {
          "base_uri": "https://localhost:8080/"
        },
        "id": "MVpKW6d7qSTN",
        "outputId": "4119abbd-97b8-450d-84c5-9651f1e58bbd"
      },
      "outputs": [
        {
          "name": "stdout",
          "output_type": "stream",
          "text": [
            "the name of the member is ayush\n",
            "the name of the member is nitin\n",
            "muscle_factory\n",
            "muscle_factory\n"
          ]
        }
      ],
      "source": [
        "# see the difference ,count variable is shared by each object and it is used by classname.obj not self.obj\n",
        "\n",
        "class gym:\n",
        "  gym_name=\"muscle_factory\"\n",
        "  def __init__(self,name):\n",
        "    self.name=name\n",
        "    print(f\"the name of the member is {self.name}\")\n",
        "ob1=gym(\"ayush\")\n",
        "ob2=gym(\"nitin\")\n",
        "print(ob1.gym_name)\n",
        "print(ob2.gym_name)"
      ]
    },
    {
      "cell_type": "code",
      "execution_count": null,
      "metadata": {
        "id": "CB4stBxpt6dK"
      },
      "outputs": [],
      "source": [
        "# see in this code when we print the gym_name for two diff objects same output is being generated it means static variable is same for all the objects\n"
      ]
    },
    {
      "cell_type": "markdown",
      "metadata": {
        "id": "Bakod6Tjx0Cp"
      },
      "source": [
        "static methods"
      ]
    },
    {
      "cell_type": "code",
      "execution_count": null,
      "metadata": {
        "colab": {
          "base_uri": "https://localhost:8080/"
        },
        "id": "Lewe3vEqx20g",
        "outputId": "fd465016-f9d5-4040-ebc4-249df7274ccc"
      },
      "outputs": [
        {
          "data": {
            "text/plain": [
              "2400"
            ]
          },
          "execution_count": 22,
          "metadata": {},
          "output_type": "execute_result"
        }
      ],
      "source": [
        "# these are the methods that belongs to class not to any object . it is independent of the object and does not require self in the parameter\n",
        "\n",
        "# let us understand..... we want a method that calculates the total calories burned in the gym which is independent of the person\n",
        "\n",
        "class gym:\n",
        "  @staticmethod\n",
        "  def calorie_counter(time,intensity):\n",
        "    return time*intensity*5\n",
        "o1=gym.calorie_counter(60,8)\n",
        "o1"
      ]
    },
    {
      "cell_type": "code",
      "execution_count": null,
      "metadata": {
        "id": "Pr6ZlYaSy4IB"
      },
      "outputs": [],
      "source": [
        "## you can see that static variable are called with the class name not the object name\n",
        "# staticmethod is a decorator"
      ]
    },
    {
      "cell_type": "markdown",
      "metadata": {
        "id": "wgfukKbT1arf"
      },
      "source": [
        "class relationship -\n",
        " 1. aggregation\n",
        " 2. inheritance\n"
      ]
    },
    {
      "cell_type": "markdown",
      "metadata": {
        "id": "kgzymhbY1q5i"
      },
      "source": [
        "aggregation"
      ]
    },
    {
      "cell_type": "code",
      "execution_count": null,
      "metadata": {
        "colab": {
          "base_uri": "https://localhost:8080/"
        },
        "id": "LqbP6STl1tSp",
        "outputId": "ed3d73f4-ca21-4e2d-d4eb-b54e6e13581b"
      },
      "outputs": [
        {
          "name": "stdout",
          "output_type": "stream",
          "text": [
            "my name is ayush and im male and i live in sonipat haryana 131027\n"
          ]
        }
      ],
      "source": [
        "# aggreagation is nothing but the relationship between the two classes means one class owns another class that means we give the object of a class\n",
        "# as parameter into the another class's object\n",
        "\n",
        "\n",
        "\n",
        "\n",
        "class customer:\n",
        "  def __init__(self,name,gender,address):\n",
        "    self.name=name\n",
        "    self.gender=gender\n",
        "    self.address=address\n",
        "  def show(self):\n",
        "    print(f\"my name is {self.name} and im {self.gender} and i live in {self.address.city} {self.address.state} {self.address.pincode}\")\n",
        "class address:\n",
        "  def __init__ (self,city,state,pincode):\n",
        "    self.city=city\n",
        "    self.state=state\n",
        "    self.pincode=pincode\n",
        "\n",
        "add=address(\"sonipat\",\"haryana\",131027)\n",
        "cust=customer(\"ayush\",\"male\",add)\n",
        "cust.show()\n",
        "\n",
        "\n",
        "# as you can see we give the add object into the cust ."
      ]
    },
    {
      "cell_type": "code",
      "execution_count": null,
      "metadata": {
        "colab": {
          "base_uri": "https://localhost:8080/"
        },
        "id": "efpvltqaYvtX",
        "outputId": "a64f97ba-5655-414f-9d8f-131ee040c68c"
      },
      "outputs": [
        {
          "name": "stdout",
          "output_type": "stream",
          "text": [
            "my name is ayush and im male and i live in sonipat haryana 131027\n"
          ]
        }
      ],
      "source": [
        "## what if the address class has the private attributes ?\n",
        "#then we cant directly access them , we can do this with a getter method\n",
        "\n",
        "class customer:\n",
        "  def __init__(self,name,gender,address):\n",
        "    self.name=name\n",
        "    self.gender=gender\n",
        "    self.address=address\n",
        "  def show(self):\n",
        "    print(f\"my name is {self.name} and im {self.gender} and i live in {self.address.get()} {self.address.state} {self.address.pincode}\")\n",
        "class address:\n",
        "  def __init__ (self,city,state,pincode):\n",
        "    self.__city=city\n",
        "    self.state=state\n",
        "    self.pincode=pincode\n",
        "  def get(self):\n",
        "    return self.__city\n",
        "\n",
        "add=address(\"sonipat\",\"haryana\",131027)\n",
        "cust=customer(\"ayush\",\"male\",add)\n",
        "cust.show()\n"
      ]
    },
    {
      "cell_type": "markdown",
      "metadata": {
        "id": "wgXhFNrkcHWG"
      },
      "source": [
        "inheritance"
      ]
    },
    {
      "cell_type": "code",
      "execution_count": null,
      "metadata": {
        "colab": {
          "base_uri": "https://localhost:8080/"
        },
        "id": "t5iQFgjNcI_S",
        "outputId": "950aa369-c9a8-4f02-c018-48b81184288f"
      },
      "outputs": [
        {
          "name": "stdout",
          "output_type": "stream",
          "text": [
            "im the father constructor\n",
            "im the child constructor\n"
          ]
        }
      ],
      "source": [
        "# inheritance allows a class (child) to use the properties and methods of another class(parent) .\n",
        "# it helps in the code reusibility\n",
        "\n",
        "class parent:\n",
        "  def show(self):\n",
        "    print(\"im the father constructor\")\n",
        "class child(parent):\n",
        "  def display(self):\n",
        "    print(\"im the child constructor\")\n",
        "c=child()\n",
        "c.show()\n",
        "c.display()\n",
        "\n",
        "\n",
        "# you can see that child class is a child class which is inherits from \"parent\" class"
      ]
    },
    {
      "cell_type": "code",
      "execution_count": null,
      "metadata": {
        "colab": {
          "background_save": true,
          "base_uri": "https://localhost:8080/"
        },
        "id": "7n-Regn53qzD",
        "outputId": "a88c8cdd-bdbf-42db-a4cb-1dd92296fab4"
      },
      "outputs": [
        {
          "name": "stdout",
          "output_type": "stream",
          "text": [
            "im the father constructor\n"
          ]
        }
      ],
      "source": [
        "class parent:\n",
        "  def __init__(self):\n",
        "    print(\"im the father constructor\")\n",
        "  def display(self):\n",
        "    print(\"im also parent\")\n",
        "class child(parent):\n",
        " pass\n",
        "c=child()\n",
        "\n"
      ]
    }
  ],
  "metadata": {
    "colab": {
      "provenance": [],
      "authorship_tag": "ABX9TyMcZ8Xj3CBgXi/b+PtP8ohf",
      "include_colab_link": true
    },
    "kernelspec": {
      "display_name": "Python 3",
      "name": "python3"
    },
    "language_info": {
      "name": "python"
    }
  },
  "nbformat": 4,
  "nbformat_minor": 0
}